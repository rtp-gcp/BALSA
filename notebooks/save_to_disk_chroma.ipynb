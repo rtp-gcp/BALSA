{
 "cells": [
  {
   "cell_type": "markdown",
   "metadata": {},
   "source": [
    "### This notebook shows example of RAG using langchain, openai api, and chromadb\n",
    "\n",
    "For this example there are two test file in docs/test, with examples how to print and define function using made up prog lang SimpleLang, to test the RAG.\n",
    "\n",
    "* For running in codespaces I've had to install these:\n",
    "    ```bash\n",
    "    sudo apt-get install -y libgl1-mesa-dev libglib2.0-0\n",
    "    ```\n",
    "\n",
    "* Then install pip packages:\n",
    "\n",
    "    ```bash\n",
    "    pip install -U langchain openai chromadb langchainhub python-dotenv  pysqlite3-binary unstructured[all-docs] tiktoken\n",
    "    ```\n",
    "\n",
    "* And prepend this to file ***~/.python/current/lib/python3.10/site-packages/chromadb/__init__.py*** or whatever python path you have :\n",
    "    ```python\n",
    "    __import__('pysqlite3')\n",
    "    import sys\n",
    "    sys.modules['sqlite3'] = sys.modules.pop('pysqlite3')\n",
    "    ```"
   ]
  },
  {
   "cell_type": "code",
   "execution_count": 13,
   "metadata": {},
   "outputs": [
    {
     "data": {
      "text/plain": [
       "True"
      ]
     },
     "execution_count": 13,
     "metadata": {},
     "output_type": "execute_result"
    }
   ],
   "source": [
    "from dotenv import load_dotenv\n",
    "import os \n",
    "# Get the current working directory and load .env\n",
    "cwd = os.getcwd()\n",
    "env_path = os.path.join(cwd, '.env')\n",
    "load_dotenv(dotenv_path=env_path)"
   ]
  },
  {
   "cell_type": "code",
   "execution_count": null,
   "metadata": {},
   "outputs": [],
   "source": [
    "from langchain import hub\n",
    "from langchain.chat_models import ChatOpenAI\n",
    "from langchain.document_loaders import DirectoryLoader\n",
    "from langchain.embeddings import OpenAIEmbeddings\n",
    "from langchain.schema import StrOutputParser\n",
    "from langchain.schema.runnable import RunnablePassthrough\n",
    "from langchain.text_splitter import RecursiveCharacterTextSplitter\n",
    "from langchain.vectorstores import Chroma\n",
    "\n",
    "# directory path\n",
    "directory = '/workspaces/BALSA/docs/test'\n",
    "\n",
    "loader = DirectoryLoader(directory)\n",
    "docs = loader.load()\n",
    "print(f\"files in path: {len(docs)} \")"
   ]
  },
  {
   "cell_type": "code",
   "execution_count": 15,
   "metadata": {},
   "outputs": [],
   "source": [
    "text_splitter = RecursiveCharacterTextSplitter(chunk_size=1000, chunk_overlap=200)\n",
    "splits = text_splitter.split_documents(docs)\n",
    "\n",
    "vectorstore = Chroma.from_documents(documents=splits, embedding=OpenAIEmbeddings(), persist_directory=\"./chroma_db\")\n",
    "retriever = vectorstore.as_retriever()\n",
    "\n",
    "prompt = hub.pull(\"rlm/rag-prompt\")\n",
    "llm = ChatOpenAI(model_name=\"gpt-3.5-turbo\", temperature=0)\n",
    "\n",
    "def format_docs(docs):\n",
    "    return \"\\n\\n\".join(doc.page_content for doc in docs)\n",
    "\n",
    "rag_chain = (\n",
    "    {\"context\": retriever | format_docs, \"question\": RunnablePassthrough()}\n",
    "    | prompt\n",
    "    | llm\n",
    "    | StrOutputParser()\n",
    ")"
   ]
  },
  {
   "cell_type": "code",
   "execution_count": 16,
   "metadata": {},
   "outputs": [
    {
     "data": {
      "text/plain": [
       "'To print \"Hello, World!\" using SimpleLang, you can use the p() function and pass \"Hello, World!\" as an argument. The code would be: p(\"Hello, World!\").'"
      ]
     },
     "execution_count": 16,
     "metadata": {},
     "output_type": "execute_result"
    }
   ],
   "source": [
    "rag_chain.invoke(\"How to print hello world using SimpleLang?\")"
   ]
  },
  {
   "cell_type": "code",
   "execution_count": 18,
   "metadata": {},
   "outputs": [
    {
     "data": {
      "text/plain": [
       "\"To write a simple function in SimpleLang that calculates and prints the number to the power of 2, you can define a function with a parameter for the number and use the ** operator to calculate the power. Here's an example:\\n\\nf powerOfTwo(num) { result = num ** 2 p(result) }\\n\\nThis function takes a parameter num, calculates the square of num using the ** operator, and then prints the result using p(result).\""
      ]
     },
     "execution_count": 18,
     "metadata": {},
     "output_type": "execute_result"
    }
   ],
   "source": [
    "rag_chain.invoke(\"How to write a simple function that will calculate and print the number to the power of 2 using SimpleLang?. show example.\")"
   ]
  }
 ],
 "metadata": {
  "kernelspec": {
   "display_name": "Python 3",
   "language": "python",
   "name": "python3"
  },
  "language_info": {
   "codemirror_mode": {
    "name": "ipython",
    "version": 3
   },
   "file_extension": ".py",
   "mimetype": "text/x-python",
   "name": "python",
   "nbconvert_exporter": "python",
   "pygments_lexer": "ipython3",
   "version": "3.10.13"
  }
 },
 "nbformat": 4,
 "nbformat_minor": 2
}
