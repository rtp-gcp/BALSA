{
 "cells": [
  {
   "cell_type": "markdown",
   "metadata": {},
   "source": [
    "# First Steps in finetuning with open ai\n",
    "\n",
    "#### Updates\n",
    "\n",
    "* 20231116 Created a date for the output file\n",
    "* 20231109 updated to use new 1.x api\n"
   ]
  },
  {
   "cell_type": "code",
   "execution_count": 1,
   "metadata": {},
   "outputs": [],
   "source": [
    "# Import the os package\n",
    "import os\n",
    "\n",
    "\n",
    "# Imports via openai docs\n",
    "from pathlib import Path\n",
    "from openai import OpenAI\n",
    "\n",
    "\n",
    "# import the dotenv package\n",
    "from dotenv import load_dotenv\n",
    "\n",
    "import pprint\n",
    "\n",
    "# From the IPython.display package, import display and Markdown\n",
    "from IPython.display import display, Markdown\n",
    "\n"
   ]
  },
  {
   "cell_type": "code",
   "execution_count": 2,
   "metadata": {},
   "outputs": [
    {
     "data": {
      "text/plain": [
       "True"
      ]
     },
     "execution_count": 2,
     "metadata": {},
     "output_type": "execute_result"
    }
   ],
   "source": [
    "# Get the current working directory\n",
    "cwd = os.getcwd()\n",
    "# Construct the .env file path\n",
    "env_path = os.path.join(cwd, '.env')\n",
    "\n",
    "# Load the .env file\n",
    "load_dotenv(dotenv_path=env_path)"
   ]
  },
  {
   "cell_type": "code",
   "execution_count": 3,
   "metadata": {},
   "outputs": [],
   "source": [
    "# Set openai.api_key to the OPENAI environment variable\n",
    "OPENAI_API_KEY = os.environ[\"OPENAI_API_KEY\"]\n"
   ]
  },
  {
   "cell_type": "markdown",
   "metadata": {},
   "source": [
    "# specifyh the key and init the client"
   ]
  },
  {
   "cell_type": "code",
   "execution_count": 4,
   "metadata": {},
   "outputs": [],
   "source": [
    "client = OpenAI()\n",
    "client.api_key=OPENAI_API_KEY"
   ]
  },
  {
   "cell_type": "markdown",
   "metadata": {},
   "source": [
    "# Determine the OpenAI API version"
   ]
  },
  {
   "cell_type": "code",
   "execution_count": 5,
   "metadata": {},
   "outputs": [],
   "source": [
    "# from chatGPT when asked how to query api version,\n",
    "# which sadly does not work since the model was trained\n",
    "# before the api changed - I can only assume.\n",
    "\n",
    "#import openai\n",
    "#openai.api_key=OPENAI_API_KEY\n",
    "# To get the API version, you would typically make an API call\n",
    "# and the version would be included in the response headers.\n",
    "# For example, you could list the available engines and check the headers:\n",
    "#response = openai.Engine.list()\n",
    "\n",
    "# The API version would be in the response headers if available\n",
    "#api_version = response.headers.get('OpenAI-Api-Version')\n",
    "\n",
    "#print(api_version)"
   ]
  },
  {
   "cell_type": "markdown",
   "metadata": {},
   "source": [
    "# Sanity check\n",
    "Verify API key and network allows usage of the openAI API"
   ]
  },
  {
   "cell_type": "code",
   "execution_count": 5,
   "metadata": {},
   "outputs": [],
   "source": [
    "# Define the system message\n",
    "system_msg = 'You are a helpful assistant who understands data science.'\n",
    "\n",
    "# Define the user message\n",
    "user_msg = 'Create a small dataset of data about people. The format of the dataset should be a data frame with 5 rows and 3 columns. The columns should be called \"name\", \"height_cm\", and \"eye_color\". The \"name\" column should contain randomly chosen first names. The \"height_cm\" column should contain randomly chosen heights, given in centimeters. The \"eye_color\" column should contain randomly chosen eye colors, taken from a choice of \"brown\", \"blue\", and \"green\". Provide Python code to generate the dataset, then provide the output in the format of a markdown table.'\n",
    "\n",
    "\n",
    "\n",
    "# Create a dataset using GPT\n",
    "response = client.chat.completions.create(\n",
    "    model=\"gpt-3.5-turbo-0613\",\n",
    "    messages=[\n",
    "        {\"role\": \"system\", \"content\": system_msg},\n",
    "        {\"role\": \"user\", \"content\": user_msg}\n",
    "    ]\n",
    ")"
   ]
  },
  {
   "cell_type": "code",
   "execution_count": 6,
   "metadata": {},
   "outputs": [
    {
     "data": {
      "text/plain": [
       "'stop'"
      ]
     },
     "execution_count": 6,
     "metadata": {},
     "output_type": "execute_result"
    }
   ],
   "source": [
    "response.choices[0].finish_reason\n",
    "#response[\"choices\"]"
   ]
  },
  {
   "cell_type": "code",
   "execution_count": 7,
   "metadata": {},
   "outputs": [
    {
     "data": {
      "text/plain": [
       "'Sure! Here\\'s the Python code to generate the dataset:\\n\\n```python\\nimport pandas as pd\\nimport random\\n\\n# Define the data\\nnames = [\"John\", \"Emma\", \"Michael\", \"Olivia\", \"William\"]\\nheights = [165, 170, 175, 180, 185]\\neye_colors = [\"brown\", \"blue\", \"green\"]\\n\\n# Generate random data\\ndata = []\\nfor _ in range(5):\\n    name = random.choice(names)\\n    height = random.choice(heights)\\n    eye_color = random.choice(eye_colors)\\n    data.append([name, height, eye_color])\\n\\n# Create the data frame\\ndf = pd.DataFrame(data, columns=[\"name\", \"height_cm\", \"eye_color\"])\\n```\\n\\nAnd here\\'s the output in the format of a markdown table:\\n\\n|   name   | height_cm | eye_color |\\n|----------|-----------|-----------|\\n|   John   |    165    |   brown   |\\n|   Emma   |    170    |   green   |\\n| Michael  |    185    |   blue    |\\n|  Olivia  |    175    |   green   |\\n| William  |    180    |   brown   |'"
      ]
     },
     "execution_count": 7,
     "metadata": {},
     "output_type": "execute_result"
    }
   ],
   "source": [
    "response.choices[0].message.content"
   ]
  },
  {
   "cell_type": "code",
   "execution_count": null,
   "metadata": {},
   "outputs": [],
   "source": []
  },
  {
   "cell_type": "code",
   "execution_count": null,
   "metadata": {},
   "outputs": [],
   "source": []
  },
  {
   "cell_type": "markdown",
   "metadata": {},
   "source": [
    "# Upload a file for model tuning"
   ]
  },
  {
   "cell_type": "code",
   "execution_count": 23,
   "metadata": {},
   "outputs": [
    {
     "name": "stdout",
     "output_type": "stream",
     "text": [
      "FileObject(id='file-S22pfJMZv7asuZNoMlrElq6T', bytes=3009, created_at=1699401557, filename='davis.jsonl', object='file', purpose='fine-tune', status='processed', status_details=None)\n"
     ]
    }
   ],
   "source": [
    "\n",
    "\n",
    "response = client.files.create(\n",
    "    file=Path(\"../data/davis.jsonl\"),\n",
    "    purpose=\"fine-tune\",\n",
    ")\n",
    "\n",
    "print(response)"
   ]
  },
  {
   "cell_type": "code",
   "execution_count": 24,
   "metadata": {},
   "outputs": [
    {
     "name": "stdout",
     "output_type": "stream",
     "text": [
      "file-S22pfJMZv7asuZNoMlrElq6T\n"
     ]
    }
   ],
   "source": [
    "print(response.id)\n",
    "myfile_id = response.id"
   ]
  },
  {
   "cell_type": "markdown",
   "metadata": {},
   "source": [
    "# Actual fine tune of a model"
   ]
  },
  {
   "cell_type": "code",
   "execution_count": 25,
   "metadata": {},
   "outputs": [
    {
     "name": "stdout",
     "output_type": "stream",
     "text": [
      "FineTuningJob(id='ftjob-orLzj8hkntF73vSUNM7w6J2I', created_at=1699401563, error=None, fine_tuned_model=None, finished_at=None, hyperparameters=Hyperparameters(n_epochs='auto', batch_size='auto', learning_rate_multiplier='auto'), model='gpt-3.5-turbo-0613', object='fine_tuning.job', organization_id='org-kHUq2JzdiW8FIDxqE01bYdot', result_files=[], status='validating_files', trained_tokens=None, training_file='file-S22pfJMZv7asuZNoMlrElq6T', validation_file=None)\n"
     ]
    }
   ],
   "source": [
    "# create a new fine tuning model \n",
    "file_id = myfile_id\n",
    "# recommended fine tuning model\n",
    "model=\"gpt-3.5-turbo-0613\"\n",
    "# model used by Gregory Bauges\n",
    "#model=\"gpt-3.5-turbo\"\n",
    "\n",
    "response = client.fine_tuning.jobs.create(\n",
    "  training_file=file_id, \n",
    "  model=model\n",
    ")\n",
    "print(response)"
   ]
  },
  {
   "cell_type": "code",
   "execution_count": 47,
   "metadata": {},
   "outputs": [
    {
     "name": "stdout",
     "output_type": "stream",
     "text": [
      "SyncCursorPage[FineTuningJob](data=[FineTuningJob(id='ftjob-orLzj8hkntF73vSUNM7w6J2I', created_at=1699401563, error=None, fine_tuned_model=None, finished_at=None, hyperparameters=Hyperparameters(n_epochs=8, batch_size=1, learning_rate_multiplier=2), model='gpt-3.5-turbo-0613', object='fine_tuning.job', organization_id='org-kHUq2JzdiW8FIDxqE01bYdot', result_files=[], status='queued', trained_tokens=None, training_file='file-S22pfJMZv7asuZNoMlrElq6T', validation_file=None), FineTuningJob(id='ftjob-AAK4Xtz8s61ltsb7PDnEcFJT', created_at=1699298141, error=None, fine_tuned_model='ft:gpt-3.5-turbo-0613:personal::8HzSS7eU', finished_at=1699298510, hyperparameters=Hyperparameters(n_epochs=8, batch_size=1, learning_rate_multiplier=2), model='gpt-3.5-turbo-0613', object='fine_tuning.job', organization_id='org-kHUq2JzdiW8FIDxqE01bYdot', result_files=['file-KAMiZ00WL2UoCdrypUsBjtHd'], status='succeeded', trained_tokens=31512, training_file='file-RltDbgHjpQ9qANthDCvqJQkO', validation_file=None), FineTuningJob(id='ftjob-3SQdElczP1fzsxoE8PEUeEUv', created_at=1699296638, error=None, fine_tuned_model='ft:gpt-3.5-turbo-0613:personal::8Hz40ex5', finished_at=1699296995, hyperparameters=Hyperparameters(n_epochs=9, batch_size=1, learning_rate_multiplier=2), model='gpt-3.5-turbo-0613', object='fine_tuning.job', organization_id='org-kHUq2JzdiW8FIDxqE01bYdot', result_files=['file-4RrpfqYXUdKFvB8h7Uehlhtp'], status='succeeded', trained_tokens=33120, training_file='file-6n4dELlk1gyh7brCV8iulYMW', validation_file=None), FineTuningJob(id='ftjob-jKcnh5QKOxHaYSAmquF1Zsk7', created_at=1698330056, error=None, fine_tuned_model='ft:gpt-3.5-turbo-0613:personal::8DvbJsff', finished_at=1698330372, hyperparameters=Hyperparameters(n_epochs=8, batch_size=1, learning_rate_multiplier=2), model='gpt-3.5-turbo-0613', object='fine_tuning.job', organization_id='org-kHUq2JzdiW8FIDxqE01bYdot', result_files=['file-fGWbGIhBL5QPeuse6G0iul1n'], status='succeeded', trained_tokens=4384, training_file='file-VCM3q5sZByfXopxM9v2SdoaF', validation_file=None), FineTuningJob(id='ftjob-9i7boVwjc9b2UKB0i66w5CXQ', created_at=1698329051, error=Error(code='invalid_n_examples', message='Training file has 3 example(s), but must have at least 10 examples', param='training_file'), fine_tuned_model=None, finished_at=None, hyperparameters=Hyperparameters(n_epochs='auto', batch_size='auto', learning_rate_multiplier='auto'), model='gpt-3.5-turbo-0613', object='fine_tuning.job', organization_id='org-kHUq2JzdiW8FIDxqE01bYdot', result_files=[], status='failed', trained_tokens=None, training_file='file-y5huqBR8UUOwvkmMEJuLwscs', validation_file=None)], object='list', has_more=False)\n",
      "file-S22pfJMZv7asuZNoMlrElq6T\n",
      "file-RltDbgHjpQ9qANthDCvqJQkO\n",
      "file-6n4dELlk1gyh7brCV8iulYMW\n",
      "file-VCM3q5sZByfXopxM9v2SdoaF\n",
      "file-y5huqBR8UUOwvkmMEJuLwscs\n"
     ]
    }
   ],
   "source": [
    "# List 10 fine-tuning jobs\n",
    "pprint.pprint(client.fine_tuning.jobs.list(limit=10))\n",
    "result = client.fine_tuning.jobs.list(limit=10)\n",
    "for a_job in result.data:\n",
    "    print(a_job.training_file)\n",
    "\n",
    "\n",
    "\n",
    "\n",
    "# Retrieve the state of a fine-tune\n",
    "#client.fine_tuning.jobs.retrieve(\"ftjob-abc123\")\n",
    "\n",
    "# Cancel a job\n",
    "#client.fine_tuning.jobs.cancel(\"ftjob-abc123\")\n",
    "\n",
    "# List up to 10 events from a fine-tuning job\n",
    "#client.fine_tuning.jobs.list_events(id=\"ftjob-abc123\", limit=10)\n",
    "\n",
    "# Delete a fine-tuned model (must be an owner of the org the model was created in)\n",
    "#client.models.delete(\"ft:gpt-3.5-turbo:acemeco:suffix:abc123\")"
   ]
  },
  {
   "cell_type": "code",
   "execution_count": null,
   "metadata": {},
   "outputs": [],
   "source": []
  },
  {
   "cell_type": "markdown",
   "metadata": {},
   "source": [
    "# Lets try to use it"
   ]
  },
  {
   "cell_type": "markdown",
   "metadata": {},
   "source": [
    "Lets look at the form of one of the training messages\n",
    "\n",
    "```\n",
    "{'messages': [{'content': 'Marv is a factual chatbot that is also sarcastic.',\n",
    "                  'role': 'system'},\n",
    "              \n",
    "              {'content': 'How far is the Chelsea Cafe from my current location?',\n",
    "                  'role': 'user'},\n",
    "                  \n",
    "              {'content': 'Around five minutes walk. Are you hungry?',\n",
    "               'role': 'assistant'}]}``"
   ]
  },
  {
   "cell_type": "code",
   "execution_count": 26,
   "metadata": {},
   "outputs": [
    {
     "name": "stdout",
     "output_type": "stream",
     "text": [
      "{'messages': [{'content': 'Marv is a factual chatbot that is also sarcastic.',\n",
      "               'role': 'system'},\n",
      "              {'content': 'How far is the Chelsea Cafe from my current '\n",
      "                          'location?',\n",
      "               'role': 'user'},\n",
      "              {'content': 'Around five minutes walk. Are you hungry?',\n",
      "               'role': 'assistant'}]}\n"
     ]
    }
   ],
   "source": [
    "pprint.pprint({\"messages\": [{\"role\": \"system\", \"content\": \"Marv is a factual chatbot that is also sarcastic.\"}, {\"role\": \"user\", \"content\": \"How far is the Chelsea Cafe from my current location?\"}, {\"role\": \"assistant\", \"content\": \"Around five minutes walk. Are you hungry?\"}]}\n",
    ")"
   ]
  },
  {
   "cell_type": "code",
   "execution_count": 8,
   "metadata": {},
   "outputs": [
    {
     "name": "stdout",
     "output_type": "stream",
     "text": [
      "sarcastic\n"
     ]
    }
   ],
   "source": [
    "#our_mode = \"normal\"\n",
    "our_mode = \"sarcastic\"\n",
    "\n",
    "# dependency analytics disazble for syntax\n",
    "# default model\n",
    "# our_model=\"gpt-3.5-turbo-0613\"\n",
    "# our tuned model\n",
    "# Chelsea model #1\n",
    "#our_model=\"ft:gpt-3.5-turbo-0613:personal::8DvbJsff\"\n",
    "# Chelsea model #2\n",
    "#our_model=\"ft:gpt-3.5-turbo-0613:personal::8IV7laj9\"\n",
    "\n",
    "\n",
    "if our_mode == \"normal\":\n",
    "    print(\"normal\")\n",
    "    # stock model\n",
    "    our_model=\"gpt-3.5-turbo-0613\"\n",
    "    # Define the system message\n",
    "    system_msg = 'You are a helpful assistant who understands data science.'\n",
    "    # Define the user message\n",
    "    user_msg = 'How far is the Chelsea Cafe from my current location?'\n",
    "else:\n",
    "    print(\"sarcastic\")\n",
    "    # tuned model\n",
    "    our_model=\"ft:gpt-3.5-turbo-0613:personal::8IV7laj9\"\n",
    "   # Define the system message\n",
    "    system_msg = 'Marv is a factual chatbot that is also sarcastic.'\n",
    "    # Define the user message\n",
    "    #user_msg = 'How far is the Chelsea Cafe from my current location?'   # This is the exact questions and responds with our exact answer.\n",
    "    #user_msg = 'How long to walk to the Chelsea Cafe?'   # This is similar, but responds with a different answer.\n",
    "    user_msg = 'How far to the Chelsea Cafe?'   # This is similar, but responds with a different answer.\n",
    "\n",
    "\n",
    "\n",
    "\n",
    "\n",
    "\n",
    "# Create a dataset using GPT\n",
    "response = client.chat.completions.create(\n",
    "    model=our_model,\n",
    "    messages=[\n",
    "        {\"role\": \"system\", \"content\": system_msg},\n",
    "        {\"role\": \"user\", \"content\": user_msg}\n",
    "    ]\n",
    ")"
   ]
  },
  {
   "cell_type": "code",
   "execution_count": 9,
   "metadata": {},
   "outputs": [
    {
     "name": "stdout",
     "output_type": "stream",
     "text": [
      "finish_reason:  stop\n",
      "conten:  About five minutes walk.\n"
     ]
    }
   ],
   "source": [
    "print(\"finish_reason: \", response.choices[0].finish_reason)\n",
    "print(\"conten: \", response.choices[0].message.content)"
   ]
  },
  {
   "cell_type": "code",
   "execution_count": null,
   "metadata": {},
   "outputs": [],
   "source": []
  },
  {
   "cell_type": "code",
   "execution_count": null,
   "metadata": {},
   "outputs": [],
   "source": []
  }
 ],
 "metadata": {
  "kernelspec": {
   "display_name": ".venv",
   "language": "python",
   "name": "python3"
  },
  "language_info": {
   "codemirror_mode": {
    "name": "ipython",
    "version": 3
   },
   "file_extension": ".py",
   "mimetype": "text/x-python",
   "name": "python",
   "nbconvert_exporter": "python",
   "pygments_lexer": "ipython3",
   "version": "3.10.8"
  }
 },
 "nbformat": 4,
 "nbformat_minor": 2
}
