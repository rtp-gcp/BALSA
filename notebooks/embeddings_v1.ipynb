{
 "cells": [
  {
   "cell_type": "markdown",
   "metadata": {},
   "source": [
    "# First Steps in embedding with openAI\n",
    "\n",
    "#### Updates\n",
    "\n",
    "* 20231203 first steps with openAI doc walkthough \n"
   ]
  },
  {
   "cell_type": "code",
   "execution_count": 1,
   "metadata": {},
   "outputs": [],
   "source": [
    "# Import the os package\n",
    "import os\n",
    "\n",
    "\n",
    "# Imports via openai docs\n",
    "from pathlib import Path\n",
    "from openai import OpenAI\n",
    "\n",
    "\n",
    "# import the dotenv package\n",
    "from dotenv import load_dotenv\n",
    "\n",
    "import pprint\n",
    "\n",
    "# From the IPython.display package, import display and Markdown\n",
    "from IPython.display import display, Markdown\n",
    "\n"
   ]
  },
  {
   "cell_type": "code",
   "execution_count": 2,
   "metadata": {},
   "outputs": [
    {
     "data": {
      "text/plain": [
       "True"
      ]
     },
     "execution_count": 2,
     "metadata": {},
     "output_type": "execute_result"
    }
   ],
   "source": [
    "# Get the current working directory\n",
    "cwd = os.getcwd()\n",
    "# Construct the .env file path\n",
    "env_path = os.path.join(cwd, '.env')\n",
    "\n",
    "# Load the .env file\n",
    "load_dotenv(dotenv_path=env_path)"
   ]
  },
  {
   "cell_type": "code",
   "execution_count": 3,
   "metadata": {},
   "outputs": [],
   "source": [
    "# Set openai.api_key to the OPENAI environment variable\n",
    "OPENAI_API_KEY = os.environ[\"OPENAI_API_KEY\"]\n"
   ]
  },
  {
   "cell_type": "markdown",
   "metadata": {},
   "source": [
    "# specify the key and init the client"
   ]
  },
  {
   "cell_type": "code",
   "execution_count": 4,
   "metadata": {},
   "outputs": [],
   "source": [
    "client = OpenAI()\n",
    "client.api_key=OPENAI_API_KEY"
   ]
  },
  {
   "cell_type": "markdown",
   "metadata": {},
   "source": [
    "# Sanity check\n",
    "Verify API key and network allows usage of the openAI API"
   ]
  },
  {
   "cell_type": "code",
   "execution_count": 5,
   "metadata": {},
   "outputs": [],
   "source": [
    "# Define the system message\n",
    "system_msg = 'You are a helpful assistant who understands data science.'\n",
    "\n",
    "# Define the user message\n",
    "user_msg = 'Create a small dataset of data about people. The format of the dataset should be a data frame with 5 rows and 3 columns. The columns should be called \"name\", \"height_cm\", and \"eye_color\". The \"name\" column should contain randomly chosen first names. The \"height_cm\" column should contain randomly chosen heights, given in centimeters. The \"eye_color\" column should contain randomly chosen eye colors, taken from a choice of \"brown\", \"blue\", and \"green\". Provide Python code to generate the dataset, then provide the output in the format of a markdown table.'\n",
    "\n",
    "\n",
    "\n",
    "# Create a dataset using GPT\n",
    "response = client.chat.completions.create(\n",
    "    model=\"gpt-3.5-turbo-0613\",\n",
    "    messages=[\n",
    "        {\"role\": \"system\", \"content\": system_msg},\n",
    "        {\"role\": \"user\", \"content\": user_msg}\n",
    "    ]\n",
    ")"
   ]
  },
  {
   "cell_type": "code",
   "execution_count": 6,
   "metadata": {},
   "outputs": [
    {
     "data": {
      "text/plain": [
       "'stop'"
      ]
     },
     "execution_count": 6,
     "metadata": {},
     "output_type": "execute_result"
    }
   ],
   "source": [
    "response.choices[0].finish_reason\n",
    "#response[\"choices\"] "
   ]
  },
  {
   "cell_type": "code",
   "execution_count": 7,
   "metadata": {},
   "outputs": [
    {
     "data": {
      "text/plain": [
       "'To generate the dataset, you can use the `pandas` library in Python. Here\\'s an example code that creates the dataset as described:\\n\\n```python\\nimport pandas as pd\\nimport random\\n\\n# Randomly chosen first names\\nnames = [\"Alice\", \"Bob\", \"Charlie\", \"David\", \"Ella\"]\\n\\n# Randomly chosen heights in cm\\nheights = [random.randint(150, 200) for _ in range(5)]\\n\\n# Randomly chosen eye colors\\neye_colors = [\"brown\", \"blue\", \"green\"]\\n\\n# Create a dictionary with the data\\ndata = {\\n    \"name\": random.choices(names, k=5),\\n    \"height_cm\": heights,\\n    \"eye_color\": random.choices(eye_colors, k=5)\\n}\\n\\n# Create a DataFrame using the dictionary\\ndf = pd.DataFrame(data)\\n\\n# Print the DataFrame\\nprint(df)\\n```\\n\\nAfter running the code, the output will be:\\n\\n```\\n      name  height_cm eye_color\\n0    David        165     green\\n1      Bob        194     green\\n2    Alice        166     brown\\n3  Charlie        175      blue\\n4      Bob        183     green\\n```\\n\\nHere\\'s the same table in markdown format:\\n\\n|   | name    | height_cm | eye_color |\\n|---|---------|-----------|-----------|\\n| 0 | David   | 165       | green     |\\n| 1 | Bob     | 194       | green     |\\n| 2 | Alice   | 166       | brown     |\\n| 3 | Charlie | 175       | blue      |\\n| 4 | Bob     | 183       | green     |'"
      ]
     },
     "execution_count": 7,
     "metadata": {},
     "output_type": "execute_result"
    }
   ],
   "source": [
    "response.choices[0].message.content"
   ]
  },
  {
   "cell_type": "markdown",
   "metadata": {},
   "source": [
    "### Setup dirs"
   ]
  },
  {
   "cell_type": "code",
   "execution_count": 9,
   "metadata": {},
   "outputs": [
    {
     "name": "stdout",
     "output_type": "stream",
     "text": [
      "current directory is : /Users/davis/progs/BALSA/notebooks\n",
      "root directory is:  /Users/davis/progs/BALSA\n",
      "docs directory is:  /Users/davis/progs/BALSA/docs\n",
      "data directory is:  /Users/davis/progs/BALSA/data\n",
      "context directory is:  /Users/davis/progs/BALSA/data/try4/context\n",
      "train directory is:  /Users/davis/progs/BALSA/data/try4/train\n",
      "test directory is:  /Users/davis/progs/BALSA/data/try4/test\n",
      "DATA_DIR_NAME:  /Users/davis/progs/BALSA/data\n"
     ]
    }
   ],
   "source": [
    "import pathlib\n",
    "dirpath = os.getcwd()\n",
    "print(\"current directory is : \" + dirpath)\n",
    "# Use pathlib to find the root dir of the git repo\n",
    "root_path = pathlib.PurePath(dirpath).parents[0]\n",
    "docs_path = root_path / 'docs'\n",
    "data_path = root_path / 'data'\n",
    "context_path = data_path / 'try4' / 'context'\n",
    "train_path = data_path / 'try4' / 'train'\n",
    "test_path = data_path / 'try4' / 'test'\n",
    "print(\"root directory is: \", root_path)\n",
    "print(\"docs directory is: \",  docs_path)\n",
    "print(\"data directory is: \",  data_path)\n",
    "print(\"context directory is: \",  context_path)\n",
    "print(\"train directory is: \",  train_path)\n",
    "print(\"test directory is: \", test_path)\n",
    "# Create equivalent dir names in the environment\n",
    "# Data\n",
    "DATA_DIR_NAME = data_path.as_posix()\n",
    "print(\"DATA_DIR_NAME: \", DATA_DIR_NAME)\n",
    "os.environ['DATA_DIR_NAME'] = DATA_DIR_NAME"
   ]
  },
  {
   "cell_type": "code",
   "execution_count": null,
   "metadata": {},
   "outputs": [],
   "source": []
  },
  {
   "cell_type": "code",
   "execution_count": null,
   "metadata": {},
   "outputs": [],
   "source": []
  },
  {
   "cell_type": "code",
   "execution_count": null,
   "metadata": {},
   "outputs": [],
   "source": []
  },
  {
   "cell_type": "code",
   "execution_count": null,
   "metadata": {},
   "outputs": [],
   "source": []
  },
  {
   "cell_type": "code",
   "execution_count": null,
   "metadata": {},
   "outputs": [],
   "source": []
  },
  {
   "cell_type": "markdown",
   "metadata": {},
   "source": [
    "### Specify the JSONL file for model tuning"
   ]
  },
  {
   "cell_type": "code",
   "execution_count": 15,
   "metadata": {},
   "outputs": [
    {
     "name": "stdout",
     "output_type": "stream",
     "text": [
      "TRAIN_FILE_NAME:  train20231125.jsonl\n",
      "TEST_FILE_NAME:  test20231125.jsonl\n"
     ]
    }
   ],
   "source": [
    "# This can be varied to point to different files.\n",
    "TRAIN_FILE_NAME = 'train20231125.jsonl'\n",
    "TEST_FILE_NAME = 'test20231125.jsonl'\n",
    "print(\"TRAIN_FILE_NAME: \", TRAIN_FILE_NAME)\n",
    "print(\"TEST_FILE_NAME: \", TEST_FILE_NAME)"
   ]
  },
  {
   "cell_type": "code",
   "execution_count": 16,
   "metadata": {},
   "outputs": [
    {
     "name": "stdout",
     "output_type": "stream",
     "text": [
      "/workspaces/BALSA/data/try3/train/train20231125.jsonl\n",
      "/workspaces/BALSA/data/try3/test/test20231125.jsonl\n"
     ]
    },
    {
     "data": {
      "text/plain": [
       "PurePosixPath('/workspaces/BALSA/data/try3/train/train20231125.jsonl')"
      ]
     },
     "execution_count": 16,
     "metadata": {},
     "output_type": "execute_result"
    }
   ],
   "source": [
    "TRAIN_FQPN = train_path /  pathlib.Path(TRAIN_FILE_NAME).as_posix()\n",
    "TEST_FQPN = test_path /  pathlib.Path(TEST_FILE_NAME).as_posix()\n",
    "print(TRAIN_FQPN)\n",
    "print(TEST_FQPN)\n",
    "TRAIN_FQPN"
   ]
  },
  {
   "cell_type": "code",
   "execution_count": 17,
   "metadata": {},
   "outputs": [
    {
     "name": "stdout",
     "output_type": "stream",
     "text": [
      "FileObject(id='file-6V1iarnGT8Ng5YEMUAc0FaAN', bytes=27652, created_at=1700932218, filename='train20231125.jsonl', object='file', purpose='fine-tune', status='processed', status_details=None)\n"
     ]
    }
   ],
   "source": [
    "response = client.files.create(\n",
    "    file=Path(TRAIN_FQPN),\n",
    "    purpose=\"fine-tune\",\n",
    ")\n",
    "\n",
    "print(response)"
   ]
  },
  {
   "cell_type": "code",
   "execution_count": 18,
   "metadata": {},
   "outputs": [
    {
     "name": "stdout",
     "output_type": "stream",
     "text": [
      "file-6V1iarnGT8Ng5YEMUAc0FaAN\n"
     ]
    }
   ],
   "source": [
    "print(response.id)\n",
    "train_file_id = response.id"
   ]
  },
  {
   "cell_type": "code",
   "execution_count": 19,
   "metadata": {},
   "outputs": [
    {
     "name": "stdout",
     "output_type": "stream",
     "text": [
      "FileObject(id='file-g0FzrVK9aFQbscBP3vXn5O8c', bytes=19271, created_at=1700932221, filename='test20231125.jsonl', object='file', purpose='fine-tune', status='processed', status_details=None)\n"
     ]
    }
   ],
   "source": [
    "\n",
    "response = client.files.create(\n",
    "    file=Path(TEST_FQPN),\n",
    "    purpose=\"fine-tune\",\n",
    ")\n",
    "\n",
    "print(response)"
   ]
  },
  {
   "cell_type": "code",
   "execution_count": 20,
   "metadata": {},
   "outputs": [
    {
     "name": "stdout",
     "output_type": "stream",
     "text": [
      "file-g0FzrVK9aFQbscBP3vXn5O8c\n"
     ]
    }
   ],
   "source": [
    "print(response.id)\n",
    "test_file_id = response.id"
   ]
  },
  {
   "cell_type": "markdown",
   "metadata": {},
   "source": [
    "# Actual fine tune of a model"
   ]
  },
  {
   "cell_type": "code",
   "execution_count": 21,
   "metadata": {},
   "outputs": [
    {
     "name": "stdout",
     "output_type": "stream",
     "text": [
      "FineTuningJob(id='ftjob-e5syY7wq105CUcneiIxBbYSn', created_at=1700932228, error=None, fine_tuned_model=None, finished_at=None, hyperparameters=Hyperparameters(n_epochs='auto', batch_size='auto', learning_rate_multiplier='auto'), model='gpt-3.5-turbo-0613', object='fine_tuning.job', organization_id='org-kHUq2JzdiW8FIDxqE01bYdot', result_files=[], status='validating_files', trained_tokens=None, training_file='file-6V1iarnGT8Ng5YEMUAc0FaAN', validation_file='file-g0FzrVK9aFQbscBP3vXn5O8c')\n"
     ]
    }
   ],
   "source": [
    "# create a new fine tuning model \n",
    "# recommended fine tuning model\n",
    "#model=\"gpt-3.5-turbo-0613\"\n",
    "# model used by Gregory Bauges\n",
    "model=\"gpt-3.5-turbo\"\n",
    "\n",
    "response = client.fine_tuning.jobs.create(\n",
    "  training_file=train_file_id,\n",
    "  validation_file=test_file_id, \n",
    "  model=model\n",
    ")\n",
    "print(response)"
   ]
  },
  {
   "cell_type": "markdown",
   "metadata": {},
   "source": [
    "# Trying to learn the training queue api"
   ]
  },
  {
   "cell_type": "code",
   "execution_count": 22,
   "metadata": {},
   "outputs": [
    {
     "name": "stdout",
     "output_type": "stream",
     "text": [
      "file-6V1iarnGT8Ng5YEMUAc0FaAN\n",
      "yes\n",
      "file-ho5MM6kcSaLtAwa6o36fbxDz\n",
      "file-Fwux98ZJRrpbK4kN7JQSafeB\n",
      "file-mOWBskmEo89j5l8yRFPFxnqe\n",
      "file-HQqakeKHnHi4YFtdZJwGIEM6\n",
      "file-S22pfJMZv7asuZNoMlrElq6T\n",
      "file-RltDbgHjpQ9qANthDCvqJQkO\n",
      "file-6n4dELlk1gyh7brCV8iulYMW\n",
      "file-VCM3q5sZByfXopxM9v2SdoaF\n",
      "file-y5huqBR8UUOwvkmMEJuLwscs\n"
     ]
    }
   ],
   "source": [
    "# List 10 fine-tuning jobs\n",
    "#pprint.pprint(client.fine_tuning.jobs.list(limit=10))\n",
    "result = client.fine_tuning.jobs.list(limit=10)\n",
    "for a_job in result.data:\n",
    "    # print the jobs raw\n",
    "    #pprint.pprint(a_job)\n",
    "    # print just the file for a job\n",
    "    print(a_job.training_file)\n",
    "    # simple test to see if our tune job is in top ten based upon fileid\n",
    "    if train_file_id == a_job.training_file:\n",
    "        print(\"yes\")\n",
    "\n",
    "\n",
    "\n",
    "\n",
    "# Retrieve the state of a fine-tune\n",
    "#client.fine_tuning.jobs.retrieve(\"ftjob-abc123\")\n",
    "\n",
    "# Cancel a job\n",
    "#client.fine_tuning.jobs.cancel(\"ftjob-abc123\")\n",
    "\n",
    "# List up to 10 events from a fine-tuning job\n",
    "#client.fine_tuning.jobs.list_events(id=\"ftjob-abc123\", limit=10)\n",
    "\n",
    "# Delete a fine-tuned model (must be an owner of the org the model was created in)\n",
    "#client.models.delete(\"ft:gpt-3.5-turbo:acemeco:suffix:abc123\")"
   ]
  },
  {
   "cell_type": "code",
   "execution_count": null,
   "metadata": {},
   "outputs": [],
   "source": []
  },
  {
   "cell_type": "markdown",
   "metadata": {},
   "source": [
    "# Lets try to use it"
   ]
  },
  {
   "cell_type": "code",
   "execution_count": 42,
   "metadata": {},
   "outputs": [
    {
     "name": "stdout",
     "output_type": "stream",
     "text": [
      "tuned\n"
     ]
    }
   ],
   "source": [
    "#our_mode = \"normal\"\n",
    "our_mode = \"bas\"\n",
    "\n",
    "# dependency analytics disazble for syntax\n",
    "# default model\n",
    "default_model=\"gpt-3.5-turbo-0613\"\n",
    "# our tuned model\n",
    "# Chelsea model #1\n",
    "#our_model=\"ft:gpt-3.5-turbo-0613:personal::8DvbJsff\"\n",
    "# Chelsea model #2\n",
    "#our_model=\"ft:gpt-3.5-turbo-0613:personal::8IV7laj9\"\n",
    "# bas model #2\n",
    "#tuned_model=\"ft:gpt-3.5-turbo-0613:personal::8IV7laj9\"\n",
    "# model we trained using20231116 data\n",
    "#tuned_model=\"ft:gpt-3.5-turbo-0613:personal::8LXzZa1D\"\n",
    "# model trained using 20231119 data\n",
    "tuned_model=\"ft:gpt-3.5-turbo-0613:personal::8MRBWlFr\"\n",
    "\n",
    "\n",
    "\n",
    "if our_mode == \"normal\":\n",
    "    print(\"normal\")\n",
    "    # stock model\n",
    "    our_model=default_model\n",
    "    # Define the system message\n",
    "    system_msg = 'you are a helpful assistant who understands IBM BAL (IBM Basic Assembler Language).'\n",
    "    # Define the user message\n",
    "    user_msg = 'Provide an example of how to add two numbers in IBM BAL assembly.'\n",
    "else:\n",
    "    print(\"tuned\")\n",
    "    # tuned model\n",
    "    our_model=tuned_model\n",
    "   # Define the system message\n",
    "    system_msg = 'you are a helpful assistant who understands IBM BAL (IBM Basic Assembler Language).'\n",
    "    # Define the user message\n",
    "    #user_msg = 'Provide an example of how to add two numbers in IBM BAL assembly.'\n",
    "    #user_msg = 'Provide an example of how to subract two numbers in IBM BAL assembly.'\n",
    "    user_msg = 'Provide an example of how to subract two numbers in IBM BAL assembly.  Use markdown to denote actual code section.'\n",
    "\n",
    "\n",
    "\n",
    "\n",
    "\n",
    "\n",
    "# Create a dataset using GPT\n",
    "response = client.chat.completions.create(\n",
    "    model=our_model,\n",
    "    messages=[\n",
    "        {\"role\": \"system\", \"content\": system_msg},\n",
    "        {\"role\": \"user\", \"content\": user_msg}\n",
    "    ]\n",
    ")"
   ]
  },
  {
   "cell_type": "code",
   "execution_count": 43,
   "metadata": {},
   "outputs": [
    {
     "name": "stdout",
     "output_type": "stream",
     "text": [
      "finish_reason:  stop\n",
      "conten:  \n",
      "Here's an example of how to subtract two numbers in IBM BAL assembly:\n",
      "\n",
      "```assembly\n",
      "          SR   R1,R2 \n",
      "```\n",
      "\n",
      "This code will subtract the contents of register R2 from the contents of register R1, and store the result in R1.\n"
     ]
    }
   ],
   "source": [
    "print(\"finish_reason: \", response.choices[0].finish_reason)\n",
    "print(\"conten: \", response.choices[0].message.content)"
   ]
  },
  {
   "cell_type": "code",
   "execution_count": null,
   "metadata": {},
   "outputs": [],
   "source": []
  },
  {
   "cell_type": "code",
   "execution_count": null,
   "metadata": {},
   "outputs": [],
   "source": []
  }
 ],
 "metadata": {
  "kernelspec": {
   "display_name": ".venv",
   "language": "python",
   "name": "python3"
  },
  "language_info": {
   "codemirror_mode": {
    "name": "ipython",
    "version": 3
   },
   "file_extension": ".py",
   "mimetype": "text/x-python",
   "name": "python",
   "nbconvert_exporter": "python",
   "pygments_lexer": "ipython3",
   "version": "3.11.5"
  }
 },
 "nbformat": 4,
 "nbformat_minor": 2
}
