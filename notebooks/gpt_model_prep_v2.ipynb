{
 "cells": [
  {
   "cell_type": "markdown",
   "metadata": {},
   "source": [
    "# GenAI model tuning prep data\n",
    "\n",
    "This notebook attempts to transform free form data to JSONL format so it can be used by OpenAI model tuning API.\n",
    "\n",
    "* 20231116 Second set of actual asm code.\n",
    "* 20231109 Uses first set of actual asm code.\n",
    "\n"
   ]
  },
  {
   "cell_type": "code",
   "execution_count": 4,
   "metadata": {},
   "outputs": [],
   "source": [
    "import datetime\n",
    "import pathlib\n",
    "import json\n",
    "\n",
    "import pandas as pd\n",
    "import os\n",
    "import os.path"
   ]
  },
  {
   "cell_type": "markdown",
   "metadata": {},
   "source": [
    "### Setup dirs "
   ]
  },
  {
   "cell_type": "code",
   "execution_count": 13,
   "metadata": {},
   "outputs": [
    {
     "data": {
      "text/plain": [
       "'20231116'"
      ]
     },
     "execution_count": 13,
     "metadata": {},
     "output_type": "execute_result"
    }
   ],
   "source": [
    "# Get the current date\n",
    "current_date = datetime.datetime.now()\n",
    "\n",
    "# Format the date as YYYYMMDD\n",
    "formatted_date = current_date.strftime('%Y%m%d')\n",
    "formatted_date"
   ]
  },
  {
   "cell_type": "code",
   "execution_count": 14,
   "metadata": {},
   "outputs": [
    {
     "name": "stdout",
     "output_type": "stream",
     "text": [
      "OUT_FILE_NAME:  tuning20231116.jsonl\n"
     ]
    }
   ],
   "source": [
    "# This can be varied to point to different files.\n",
    "IN_FILE_NAME = \"raw.txt\"\n",
    "OUT_FILE_NAME = 'tuning' + formatted_date + '.jsonl'\n",
    "os.environ['IN_FILE_NAME'] = IN_FILE_NAME\n",
    "os.environ['OUT_FILE_NAME'] = OUT_FILE_NAME\n",
    "print(\"OUT_FILE_NAME: \", OUT_FILE_NAME)"
   ]
  },
  {
   "cell_type": "code",
   "execution_count": 15,
   "metadata": {},
   "outputs": [
    {
     "name": "stdout",
     "output_type": "stream",
     "text": [
      "current directory is : /workspaces/BALSA/notebooks\n"
     ]
    }
   ],
   "source": [
    "# The current directory will be where this src file is located.\n",
    "# Which is in the notebooks dir of the project\n",
    "dirpath = os.getcwd()\n",
    "print(\"current directory is : \" + dirpath)"
   ]
  },
  {
   "cell_type": "code",
   "execution_count": 16,
   "metadata": {},
   "outputs": [
    {
     "name": "stdout",
     "output_type": "stream",
     "text": [
      "root directory is:  /workspaces/BALSA\n",
      "data directory is:  /workspaces/BALSA/data\n",
      "logs directory is:  /workspaces/BALSA/logs\n"
     ]
    }
   ],
   "source": [
    "# Use pathlib to find the root dir of the git repo\n",
    "root_path = pathlib.PurePath(dirpath).parents[0]\n",
    "data_path = root_path / 'data'\n",
    "logs_path = root_path / 'logs'\n",
    "print(\"root directory is: \", root_path)\n",
    "print(\"data directory is: \",  data_path)\n",
    "print(\"logs directory is: \", logs_path)"
   ]
  },
  {
   "cell_type": "code",
   "execution_count": 17,
   "metadata": {},
   "outputs": [
    {
     "name": "stdout",
     "output_type": "stream",
     "text": [
      "LOGS_DIR_NAME:  /workspaces/BALSA/logs\n",
      "DATA_DIR_NAME:  /workspaces/BALSA/data\n"
     ]
    }
   ],
   "source": [
    "# Create equivalent dir names in the environment\n",
    "# Logs\n",
    "LOGS_DIR_NAME = logs_path.as_posix()\n",
    "print(\"LOGS_DIR_NAME: \", LOGS_DIR_NAME)\n",
    "os.environ['LOGS_DIR_NAME'] = LOGS_DIR_NAME\n",
    "# Data\n",
    "DATA_DIR_NAME = data_path.as_posix()\n",
    "print(\"DATA_DIR_NAME: \", DATA_DIR_NAME)\n",
    "os.environ['DATA_DIR_NAME'] = DATA_DIR_NAME"
   ]
  },
  {
   "cell_type": "code",
   "execution_count": 18,
   "metadata": {},
   "outputs": [
    {
     "name": "stdout",
     "output_type": "stream",
     "text": [
      "/workspaces/BALSA/data\n",
      "/workspaces/BALSA/logs\n",
      "\n"
     ]
    }
   ],
   "source": [
    "%%bash\n",
    "# Verify env variables are set\n",
    "echo ${DATA_DIR_NAME}\n",
    "echo ${LOGS_DIR_NAME}\n",
    "echo ${CSV_FILE_NAME}"
   ]
  },
  {
   "cell_type": "code",
   "execution_count": 19,
   "metadata": {},
   "outputs": [
    {
     "name": "stdout",
     "output_type": "stream",
     "text": [
      "\n",
      "SAMPLE_CODE\n",
      "\n",
      "This is sample code line 1\n",
      "This is sample code line 2\n"
     ]
    }
   ],
   "source": [
    "%%bash\n",
    "head -n 5 \"${DATA_DIR_NAME}/${IN_FILE_NAME}\""
   ]
  },
  {
   "cell_type": "markdown",
   "metadata": {},
   "source": [
    "# Routine to build our tuning jsonl file from txt files."
   ]
  },
  {
   "cell_type": "code",
   "execution_count": 20,
   "metadata": {},
   "outputs": [],
   "source": [
    "# Function to read the input text file and convert it to JSONL format\n",
    "def convert_text_to_jsonl(input_file, output_file):\n",
    "    lines = []\n",
    "    messages = []\n",
    "    # stub vars\n",
    "    sample_code = []\n",
    "    commentary = []\n",
    "    prompt = []\n",
    "\n",
    "    with open(input_file, 'r') as file:\n",
    "        lines = file.readlines()\n",
    "\n",
    "\n",
    "    # \n",
    "    # find delimiters\n",
    "    #\n",
    "\n",
    "    posn = []\n",
    "    line_nbr = 0\n",
    "    for a_line in lines:\n",
    "        #print(a_line)\n",
    "        if (a_line == \"SAMPLE_CODE\\n\"):\n",
    "            #print(a_line, \" \", line_nbr )\n",
    "            # save that position\n",
    "            posn.append(line_nbr) \n",
    "        if (a_line == \"COMMENTARY\\n\"):\n",
    "            #print(a_line)\n",
    "            posn.append(line_nbr) \n",
    "        if (a_line == \"PROMPT\\n\"):\n",
    "            #print(a_line)\n",
    "            posn.append(line_nbr) \n",
    "        \n",
    "        line_nbr = line_nbr + 1\n",
    "\n",
    "    # Record the last line in file\n",
    "    posn.append(line_nbr) \n",
    "\n",
    "    #print(\"posn: \", posn)\n",
    "\n",
    "    # separate out the parts\n",
    "    code_lines = lines[1+1:posn[1]]\n",
    "    commentary_lines = lines[posn[1]+1:posn[2]]\n",
    "    prompt_lines = lines[posn[2]+1:posn[3]]\n",
    "\n",
    "    # dump the parts\n",
    "    #print(\"===code_lines:===\\n\", code_lines)\n",
    "    #print(\"===commentary_lines:===\\n\", commentary_lines)\n",
    "    #print(\"===prompt_lines:===\\n\", prompt_lines)\n",
    "\n",
    "    a_dict = {}\n",
    "    a_dict['messages'] = []\n",
    "    # a_dict['messages'] = [ \n",
    "    #     {'role':'system',\n",
    "    #      'content': 'you are a helpful assistant'},\n",
    "    #     {'role':'user',\n",
    "    #      'content': prompt_lines},\n",
    "    #     {'role':'assistant',\n",
    "    #      'content': code_lines + ' with commentary: ' + commentary_lines}\n",
    "    # ]\n",
    "\n",
    "    code_commentary_lines = code_lines\n",
    "    code_commentary_lines.append('with commentary: \\n')\n",
    "    [code_commentary_lines.append(e) for e in commentary_lines]\n",
    "    \n",
    "    a_dict['messages'].append({'role':'system',\n",
    "                              'content': 'you are a helpful assistant who understands IBM BAL (IBM Basic Assembler Language)'})\n",
    "    a_dict['messages'].append({'role':'user',\n",
    "                               'content': ' '.join(prompt_lines)})\n",
    "    a_dict['messages'].append({'role':'assistant',\n",
    "                               'content': ' '.join(code_commentary_lines)})\n",
    "\n",
    "\n",
    "    print(a_dict)\n",
    "\n",
    "    # append to output file\n",
    "    # modify with w to write a new one\n",
    "    with open(output_file, 'a') as jsonl_file:\n",
    "        jsonl_file.write(json.dumps(a_dict) + '\\n')"
   ]
  },
  {
   "cell_type": "code",
   "execution_count": 21,
   "metadata": {},
   "outputs": [
    {
     "name": "stdout",
     "output_type": "stream",
     "text": [
      "{'messages': [{'role': 'system', 'content': 'you are a helpful assistant who understands IBM BAL (IBM Basic Assembler Language)'}, {'role': 'user', 'content': '\\n This is sample prompt line 1\\n This is sample prompt line 2\\n This is sample prompt line 3\\n'}, {'role': 'assistant', 'content': '\\n This is sample code line 1\\n This is sample code line 2\\n This is sample code line 3\\n \\n with commentary: \\n \\n This is sample commentary line 1\\n This is sample commentary line 2\\n This is sample commentary line 3\\n \\n'}]}\n"
     ]
    }
   ],
   "source": [
    "IN_FQPN = data_path /  pathlib.PurePath(IN_FILE_NAME).as_posix()\n",
    "OUT_FQPN = data_path /  pathlib.PurePath(OUT_FILE_NAME).as_posix()\n",
    "\n",
    "convert_text_to_jsonl(IN_FQPN, OUT_FQPN)"
   ]
  },
  {
   "cell_type": "code",
   "execution_count": 22,
   "metadata": {},
   "outputs": [],
   "source": [
    "# TODO: Redo with glob pattern\n",
    "files = [\"explicitaddressing.txt\",  \n",
    "         \"raw_add2.txt\",           \n",
    "         \"raw_divide.txt\",   \n",
    "         \"raw_divide4.txt\",  \n",
    "         \"raw_move_immediate.txt\",   \n",
    "         \"registerandindexedstorage.txt\",\n",
    "         \"storageandstorage1.txt\",\n",
    "         \"raw_add_register.txt\",   \n",
    "         \"raw_divide2.txt\",  \n",
    "         \"raw_divide5.txt\",  \n",
    "         \"raw_move_immediate2.txt\",  \n",
    "         \"registerandregister.txt\",        \n",
    "         \"storageandstorage2.txt\",\n",
    "         \"raw_add.txt\",             \n",
    "         \"raw_add_register2.txt\",  \n",
    "         \"raw_divide3.txt\",  \n",
    "         \"raw_move.txt\",     \n",
    "         \"raw_move_immediate3.txt\",  \n",
    "         \"registerandstorage.txt\",         \n",
    "         \"storageimmediate.txt\"]"
   ]
  },
  {
   "cell_type": "code",
   "execution_count": 23,
   "metadata": {},
   "outputs": [
    {
     "name": "stdout",
     "output_type": "stream",
     "text": [
      "/workspaces/BALSA/data/tuning20231116.jsonl\n"
     ]
    }
   ],
   "source": [
    "# BUG: failure to rm existing file using pathlib\n",
    "# TODO: PathLib is builtin to python 3.x\n",
    "# I had installed it seprately, and perhaps the older version does not\n",
    "# have unlink().  I erased my .venv, removed the entry\n",
    "# in requirements.txt and the error persisted.  The code is here in \n",
    "# case I have time to try again later. 8-/\n",
    "\n",
    "OUT_FQPN_PL = data_path /  pathlib.Path(OUT_FILE_NAME)\n",
    "print(OUT_FQPN_PL)\n",
    "#OUT_FQPN_PL.unlink(missing_ok=True)\n"
   ]
  },
  {
   "cell_type": "code",
   "execution_count": 25,
   "metadata": {},
   "outputs": [
    {
     "name": "stdout",
     "output_type": "stream",
     "text": [
      "{'messages': [{'role': 'system', 'content': 'you are a helpful assistant who understands IBM BAL (IBM Basic Assembler Language)'}, {'role': 'user', 'content': '\\n Can you explain the concept of explicit addressing when using IBM BAL?\\n'}, {'role': 'assistant', 'content': '\\n \\n with commentary: \\n \\n The term explicit addressing refers to a programming practice of coding\\n base registers, index registers and displacement to specify an address\\n instead of using symbolic names.  It can also involve coding an \\n explicit length.  If possible we would prefer to represent a byte in\\n memory by a symbolic name rathr by using an explicit address.\\n We also want to avoid using explict lengths.  Usually this is possible.\\n For instance, consider the following declaration:\\n \\n ```\\n XFIELD      DS  CL5\\n ```\\n \\n While this field does specify a length attribute of five, the symbol\\n `XFIELD` represents the address of the **first** byte of that field.\\n This is important because the assembler will convert this symbolic\\n address to a base/displacement format representing the address\\n of the **first** byte of the field.  This base/displacement address \\n (BDDD in hexadecimal) occupies two bytes in assembled code, as seen\\n in the SS instruction format.\\n \\n The explicit format for the MVC Move Copy instruction is shown as:\\n \\n ```\\n MVC   D1(L1,B1),D2(B2)\\n ```\\n \\n * D1 - Operand 1 displacement\\n * L1 - Operand 1 length\\n * B1 - Operand 1 base register\\n * D2 - Operand 2 displacement\\n * B2 - Operand 2 base register\\n \\n Consider the following example which uses explicit addressing:\\n \\n ```\\n       MVC   4(8,12),32(8)\\n ```\\n \\n * 4 is D1 or displacement/offset1\\n * 8 is L1 or length\\n * 12 is B1 or Base register1\\n * 32 is D2 or displacement/offset2\\n * 8 is B2 or base register2\\n \\n Using the explicit format above, we can decipher what the instruction will\\n do.  First we note it is an MVC instruction which copies 8 bytes since the \\n number of bytes is determined by the length of operand 1.  Why didn\\'t we\\n subtract one and code 4(7,12)?  The **answer** is that the assembler will \\n subtract one when the assembled code is assembled into object code.\\n \\n Where is the source of that data being moved?\\n \\n The answer is given explcitly as 32(8).  This represents a\\n 32-byte displacement from register 8.  During execution, the effective\\n address i s computed by adding the contents of base register 8 plus the\\n 32-byte displacement.\\n \\n EA Effective Address = Contents(base register 8) + 32\\n \\n During execution, it is imperitive that register 8 contains a \"known\" \\n address (the base address) and the second field is 32 bytes from this\\n base address.\\n \\n What is the target address where the data will be copied?\\n \\n The answer is given explictly as 4(12).  This represents a 4-byte\\n displacement from register 12.  The effective address is computed to\\n be the contents of base register 12 plus 4.  The field to receive\\n the data must be an address which is 4 bytes larger than the execution\\n time address in register 12.\\n \\n Each instruction has its own explicit format we can use for coding.  Besides\\n learning the instruction formats for each instruction, we also need to knw how\\n to explictily code each instruction (or be willing to look it up).  For\\n example, the load instruction format appears below:\\n \\n ```\\n      L    R1,D2(X2,B2)\\n ```\\n \\n Consider the following explictly code instruction,\\n \\n ```\\n     L     10,4(3,5)\\n ```\\n \\n Register 10 is loaded with a fullword in memory.  The source word\\n is formed from base register 5, with register 3 as an index register,\\n and 4 is the displacement.  The effective source address is computed\\n by adding the contents of the base register, plus the contents of the \\n index register, plus the displacement.\\n \\n EA Effective Address = base R5 contents + index R3 contents + displacement 4.\\n \\n ### TIP\\n \\n Always refer to registers with their equated names: \\n \\n ```\\n       R5  EQU 5\\n ```\\n \\n such that above becomes:\\n \\n ```\\n    L      R10,4(R3,R5)\\n ```\\n \\n Knowledge of the explict format notation is critical to understanding many \\n instructions.  For example, it is common practice for an assembler \\n programmer to code an instruction similar to below:\\n \\n ```\\n    LA     R5,10\\n ```\\n \\n How do we interpret this code?  First, we could look up a Load Address LA\\n instruction and discover that is an RX instruction, and that t has an explict\\n format similar to the load instruction described above.  The first operand,\\n R5 (equated to 5), is the target register of the load.  The second operand of\\n an RX format instruction appears as D2(X2,B2).  But the instruction above\\n has no parenthese - they were omitted, and therefore the base and index\\n registers are treated as D2(R0,R0).  This means that 10 is a displacement.\\n \\n So what is the effective address?\\n \\n Since the base and index registers were omitted, zero was chosen for the base\\n and index registers.\\n \\n ### TIP\\n \\n Register zero, when used as a base or index register, doesn\\'t contribute\\n the effective address.\\n \\n This means that the effective address is simply 10.  The instructions effect\\n is to load an immediate address into register 5.  The largest immediate\\n address loaded this way is 4095 or X\\'FFF\\' or 0xFFF.\\n \\n \\n'}]}\n",
      "{'messages': [{'role': 'system', 'content': 'you are a helpful assistant who understands IBM BAL (IBM Basic Assembler Language)'}, {'role': 'user', 'content': '\\n Provide an explanation of the Add instruction in BAS.\\n \\n'}, {'role': 'assistant', 'content': \"\\n        A   R9,FIELDA\\n \\n with commentary: \\n \\n A R1,D2(X2,B2)\\n \\n OPCODE  R1X2   B2D2  D2D2\\n \\n The Add instruction performs two's compliment binary\\n addition.  Operand 1 is a register containing a fullword\\n integer.  Operand 2 is a fullword in memory.  The fullword\\n in memory is added to the fullword in the register and the result\\n is stored in the register.  The fullword in memory is not changed.\\n The instruction ses the condition code as follows:\\n \\n condition code        meaning                   test with\\n ------------------------------------------------------------\\n 0                  Result is 0; no overflow     BE,JE,BZ,JZ\\n 1                  Result is <0; no overflow    BL,JL,BM,JM\\n 2                  Result is >0; no overflow    BH,JH,BP,JP\\n 3                  overflow\\n \\n As an example, consider the following code:\\n \\n        A   R9,AFIELD\\n \\n R9 Before               R9 After\\n 00000025 -------------> 00000028\\n \\n FIELDA DC   X'3'\\n \\n \\n\"}]}\n",
      "{'messages': [{'role': 'system', 'content': 'you are a helpful assistant who understands IBM BAL (IBM Basic Assembler Language)'}, {'role': 'user', 'content': '\\n Provide an explanation of the D instruction in BAS.\\n'}, {'role': 'assistant', 'content': \"\\n        D     R8,B\\n \\n with commentary: \\n \\n D   R1,D2(X2,B2)\\n \\n OPCODE  R1X2   B2D2  D2D2\\n \\n The Divide (D) instruction performs two's compliment binary\\n integer division.  \\n \\n An example of integer division is:  \\n \\n Y = A / B with remainder R\\n \\n A is referred to as the dividend\\n B is referred to as the divisor\\n Y is referred to as quotient\\n R is referred to as the remainder\\n \\n Operand 1 specifies a register pair.  Operand 1\\n specifies an even register.  The second register is implied as the\\n next register in the sequence.\\n \\n For example if Operand 1 is R2, the second register is R3.  This\\n even:odd register pair forms the dividend.\\n \\n Operand 2 specifes the name of a fullword in memory containing\\n the divisor.\\n \\n After the execution of the divide instruction, the resulting \\n quotient is in R1 and the remainder is in R2.   To clarify,\\n R1 is R8 and R2 is R9 in the example code below.\\n \\n \\n As an example, consider the following code:\\n \\n        L     R8,A        PUT THE DIVIDEND IN THE EVEN REGISTER\\n        SRDA  R8,32       ALGEBRAICALLY SHIFT R8 INTO R9\\n        D     R8,B        DIVIDE A BY B\\n        ...\\n A      DC    F'19'       DIVIDEND \\n B      DC    F'5'        DIVISOR \\n \\n 19/5 -> 3 r=4\\n \\n \\n R8 Before               R8 After\\n Dividend Upper          Remainder\\n 00000000 -------------> 00000004\\n \\n R9 Before               R9 After\\n Dividend Lower          Quotient\\n 00000013 -------------> 00000003\\n \\n MEM:A Before            MEM:A After\\n 00000013 -------------> 00000013\\n \\n MEM:B Before            MEM:B After\\n 00000005 -------------> 00000005\\n \\n \\n \\n\"}]}\n",
      "{'messages': [{'role': 'system', 'content': 'you are a helpful assistant who understands IBM BAL (IBM Basic Assembler Language)'}, {'role': 'user', 'content': '\\n Provide an explanation of the Divide instruction using negative numbers in BAS.\\n'}, {'role': 'assistant', 'content': \"\\n        D     R6,=F'-8'\\n \\n with commentary: \\n \\n D   R1,D2(X2,B2)\\n \\n OPCODE  R1X2   B2D2  D2D2\\n \\n The Divide (D) instruction performs two's compliment binary\\n integer division.  \\n \\n An example of integer division is:  \\n \\n Y = A / B with remainder R\\n \\n A is referred to as the dividend\\n B is referred to as the divisor\\n Y is referred to as quotient\\n R is referred to as the remainder\\n \\n Operand 1 specifies a register pair.  Operand 1\\n specifies an even register.  The second register is implied as the\\n next register in the sequence.\\n \\n For example if Operand 1 is R2, the second register is R3.  This\\n even:odd register pair forms the dividend.\\n \\n Operand 2 specifes the name of a fullword in memory containing\\n the divisor.\\n \\n After the execution of the divide instruction, the resulting \\n quotient is in R1 and the remainder is in R2.   To clarify,\\n R1 is R8 and R2 is R9 in the example code below.\\n \\n \\n As an example, consider the following code:\\n \\n        L     R6,=F'-100'  DIVIDEND INITIALLY GOES IN THE EVEN\\n *                         REGISTER\\n        SRDA  R6,32        ... AND IS SHIFTED TO THE ODD REGISTER\\n        D     R6,=F'-8'    ... BEFORE DIVIDING\\n *                         R6 (REMAINDER) = X'FFFFFFFC' = -4\\n *                         R7 (QUOTIENT)  = X'0000000C'\\n \\n \\n \\n -100/-8 -> 12 r=-4\\n \\n \\n R6 Before               R6 After\\n Dividend Upper          Remainder\\n FFFFFFFF -------------> FFFFFFFC\\n \\n R7 Before               R7 After\\n Dividend Lower          Quotient\\n FFFFFF64 -------------> 0000000C\\n \\n IMM:F             \\n FFFFFF64 \\n \\n IMM:F \\n FFFFFFF8 \\n \\n \\n\"}]}\n",
      "{'messages': [{'role': 'system', 'content': 'you are a helpful assistant who understands IBM BAL (IBM Basic Assembler Language)'}, {'role': 'user', 'content': '\\n Provide an explanation of the MVI instruction in BAS.\\n'}, {'role': 'assistant', 'content': \"\\n        MVI   FIELDA,X'C1'\\n \\n with commentary: \\n \\n MVI D1(B1),I2\\n \\n OPCODE  I2I2   B1D1  D1D1\\n \\n Move immediate (MVI) is used to move (copy) a one-byte immediate\\n constant to a field in storage .  Operand 1 denotes the filed in main \\n storage, while the second operand is coded as self-defining term that\\n gets assembled by the move.\\n \\n As an example, consider the following code:\\n \\n        MVI   FIELDA,X'C1'\\n        ...\\n FIELDA DC   X'123456'\\n \\n \\n\"}]}\n",
      "{'messages': [{'role': 'system', 'content': 'you are a helpful assistant who understands IBM BAL (IBM Basic Assembler Language)'}, {'role': 'user', 'content': '\\n Can you explain the Register and Indexed Storage type instruction format also known as RX?\\n \\n \\n'}, {'role': 'assistant', 'content': '\\n \\n with commentary: \\n \\n # RX Register and Indexed Storage Format\\n The RX format is used for register and indexed storage instructions.\\n \\n \\n The format is as follows:\\n \\n | OpCode | byte2 | byte3        | byte4 |\\n |--------+-------+--------------+-------+\\n | xx     | L1X2  | B2D2         |  D2D2 |\\n |        | Length| Dest         |       |\\n |        | Index | Base         |       |\\n |        |       | Displacement | Disp. |\\n \\n * Byte 1 - the op code\\n * Byte 2 \\n     - R1 - the register which is operand 1\\n     - X2 - the index register associated with operand 2\\n * Byte 3 and 4 - the base/displacement address associated with operand 2\\n \\n \\n An example of this format is the L Load instruction.\\n The effect of the instruction is to copy a fullword from memory/storage\\n in to the register specified by operand 1.\\n The following example would cause the contents of\\n memory from the effective address of defined storage `TABLE`\\n with offset specified by R7. Note in IBM Assembler syntax\\n the offset is known as displacement.\\n \\n ```\\n L R5,TABLE(R7)\\n ```\\n \\n \\n'}]}\n",
      "{'messages': [{'role': 'system', 'content': 'you are a helpful assistant who understands IBM BAL (IBM Basic Assembler Language)'}, {'role': 'user', 'content': '\\n Can you explain the Storage and Storage type one instruction format also known as SS1?\\n \\n \\n'}, {'role': 'assistant', 'content': '\\n \\n with commentary: \\n \\n # SS1 Storage and Storage Instruction Format\\n \\n There are two subtypes for Storage to Storage instructions.  The\\n SS1 format applies to the MVC instruction below\\n \\n ```\\n MVC COSTOUT,COSTIN\\n ```\\n \\n The format is as follows:\\n \\n | OpCode | byte2 | byte3        | byte4 | byte5 | byte6 |\\n |--------+-------+--------------+-------+-------+-------|\\n | xx     | L1L1  | B1D1         |  D1D1 | B2D2  | D2D2  |\\n |        | Length| Dest         |       | Src   |       |\\n |        |       | Base         |       | Base  |       |\\n |        |       | Displacement | Disp. | Disp. | Disp. |\\n \\n * Byte 1 - the op code\\n * Byte 2 - the number of bytes associated with operand 1 (minus 1)\\n * Byte 3 and 4 - the base/displacement address associated with operand 1\\n * Byte 5 and 6 - the base/displacement address associated with operand 2\\n \\n'}]}\n",
      "{'messages': [{'role': 'system', 'content': 'you are a helpful assistant who understands IBM BAL (IBM Basic Assembler Language)'}, {'role': 'user', 'content': '\\n Provide an explanation of the AR instruction in BAS.\\n'}, {'role': 'assistant', 'content': \"\\n        AR   R5,R9\\n \\n with commentary: \\n \\n AR   R1,R2\\n \\n OPCODE  R1R2\\n \\n The Add Register instruction performs two's compliment binary\\n addition.  Operand 1 and 2 are registers containing fullword\\n integers.  The fullwords are added and the sum is stored\\n in register 1.  Register 2 is unchanged.\\n \\n The instruction sets the condition code as follows:\\n \\n condition code        meaning                   test with\\n ------------------------------------------------------------\\n 0                  Result is 0; no overflow     BE,JE,BZ,JZ\\n 1                  Result is <0; no overflow    BL,JL,BM,JM\\n 2                  Result is >0; no overflow    BH,JH,BP,JP\\n 3                  overflow\\n \\n As an example, consider the following code:\\n \\n        AR   R5,R9\\n \\n \\n \\n R5 Before               R5 After\\n 00000025 -------------> 00000028\\n \\n R9 Before               R9 After\\n 00000003 -------------> 00000028\\n \\n \\n \\n\"}]}\n",
      "{'messages': [{'role': 'system', 'content': 'you are a helpful assistant who understands IBM BAL (IBM Basic Assembler Language)'}, {'role': 'user', 'content': '\\n Provide an explanation of the Divide instruction in BAS.\\n'}, {'role': 'assistant', 'content': \"\\n        D     R8,B\\n \\n with commentary: \\n \\n D   R1,D2(X2,B2)\\n \\n OPCODE  R1X2   B2D2  D2D2\\n \\n The Divide (D) instruction performs two's compliment binary\\n integer division.  \\n \\n An example of integer division is:  \\n \\n Y = A / B with remainder R\\n \\n A is referred to as the dividend\\n B is referred to as the divisor\\n Y is referred to as quotient\\n R is referred to as the remainder\\n \\n Operand 1 specifies a register pair.  Operand 1\\n specifies an even register.  The second register is implied as the\\n next register in the sequence.\\n \\n For example if Operand 1 is R2, the second register is R3.  This\\n even:odd register pair forms the dividend.\\n \\n Operand 2 specifes the name of a fullword in memory containing\\n the divisor.\\n \\n After the execution of the divide instruction, the resulting \\n quotient is in R1 and the remainder is in R2.   To clarify,\\n R1 is R8 and R2 is R9 in the example code below.\\n \\n \\n As an example, consider the following code:\\n \\n        L     R8,A        PUT THE DIVIDEND IN THE EVEN REGISTER\\n        SRDA  R8,32       ALGEBRAICALLY SHIFT R8 INTO R9\\n        D     R8,B        DIVIDE A BY B\\n        ...\\n A      DC    F'19'       DIVIDEND \\n B      DC    F'5'        DIVISOR \\n \\n \\n 19/5 -> 3 r=4\\n \\n R8 Before               R8 After\\n Dividend Upper          Remainder\\n 00000000 -------------> 00000004\\n \\n R9 Before               R9 After\\n Dividend Lower          Quotient\\n 00000013 -------------> 00000003\\n \\n MEM:A Before            MEM:A After\\n 00000013 -------------> 00000013\\n \\n MEM:B Before            MEM:B After\\n 00000005 -------------> 00000005\\n \\n \\n \\n\"}]}\n",
      "{'messages': [{'role': 'system', 'content': 'you are a helpful assistant who understands IBM BAL (IBM Basic Assembler Language)'}, {'role': 'user', 'content': '\\n Provide an explanation of the Divide instruction and how to \\n protect against divide by zero errors in BAS.\\n'}, {'role': 'assistant', 'content': \"\\n         L   R5,DIVISOR\\n         C   R5,=F'0'               IS THE DIVISOR 0?\\n         BE  ZERODIV                BRANCH IF DIVISOR is 0\\n         D   R8,DIVISOR             OK to DIVIDE NOW\\n         ...\\n ZERODIV EQU *\\n *\\n * CODE TO HANDLE A ZERO DIVISOR\\n *\\n * TODO:\\n \\n \\n with commentary: \\n \\n D   R1,D2(X2,B2)\\n \\n OPCODE  R1X2   B2D2  D2D2\\n \\n The Divide (D) instruction performs two's compliment binary\\n integer division.  \\n \\n An example of integer division is:  \\n \\n Y = A / B with remainder R\\n \\n A is referred to as the dividend\\n B is referred to as the divisor\\n Y is referred to as quotient\\n R is referred to as the remainder\\n \\n Operand 1 specifies a register pair.  Operand 1\\n specifies an even register.  The second register is implied as the\\n next register in the sequence.\\n \\n For example if Operand 1 is R2, the second register is R3.  This\\n even:odd register pair forms the dividend.\\n \\n Operand 2 specifes the name of a fullword in memory containing\\n the divisor.\\n \\n After the execution of the divide instruction, the resulting \\n quotient is in R1 and the remainder is in R2.   To clarify,\\n R1 is R8 and R2 is R9 in the example code below.\\n \\n \\n As an example, consider the following code which protects\\n against divide by zero errors:\\n \\n         L   R5,DIVISOR\\n         C   R5,=F'0'               IS THE DIVISOR 0?\\n         BE  ZERODIV                BRANCH IF DIVISOR is 0\\n         D   R8,DIVISOR             OK to DIVIDE NOW\\n         ...\\n ZERODIV EQU *\\n *\\n * CODE TO HANDLE A ZERO DIVISOR\\n *\\n * TODO:\\n \\n \\n \\n \\n \\n\"}]}\n",
      "{'messages': [{'role': 'system', 'content': 'you are a helpful assistant who understands IBM BAL (IBM Basic Assembler Language)'}, {'role': 'user', 'content': '\\n Provide an explanation of the Move Immediate instruction in BAS.\\n'}, {'role': 'assistant', 'content': \"\\n        MVI   FIELDA,X'C1'\\n \\n with commentary: \\n \\n MVI D1(B1),I2\\n \\n OPCODE  I2I2   B1D1  D1D1\\n \\n Move immediate (MVI) is used to move (copy) a one-byte immediate\\n constant to a field in storage .  Operand 1 denotes the filed in main \\n storage, while the second operand is coded as self-defining term that\\n gets assembled by the move.\\n \\n As an example, consider the following code:\\n \\n        MVI   FIELDA,X'C1'\\n        ...\\n FIELDA DC   X'123456'\\n \\n \\n\"}]}\n",
      "{'messages': [{'role': 'system', 'content': 'you are a helpful assistant who understands IBM BAL (IBM Basic Assembler Language)'}, {'role': 'user', 'content': '\\n Can you explain the Register and Register type instruction format also known as RR?\\n \\n \\n'}, {'role': 'assistant', 'content': '\\n \\n with commentary: \\n \\n # RR Register and Register Format\\n The RR format is used for register and register instructions.\\n \\n \\n The format is as follows:\\n \\n | OpCode | byte2     |\\n |--------+-----------+\\n | xx     | R1R2      |\\n |        | Registers |\\n \\n * Byte 1 - the op code\\n * Byte 2 \\n     - R1 - the register which is operand 1\\n     - R2 - the register which is operand 2\\n \\n An example of this format is the LR Load Register instruction.\\n The effect of the instruction is to copy the contents of the \\n register specified by operand 2 into the register specified by\\n operand 1.  The following example would cause the contents of\\n register 12 to be copied into register 3.\\n \\n ```\\n LR R3,R12\\n ```\\n \\n \\n'}]}\n",
      "{'messages': [{'role': 'system', 'content': 'you are a helpful assistant who understands IBM BAL (IBM Basic Assembler Language)'}, {'role': 'user', 'content': '\\n Can you explain the Storage and Storage type twoinstruction format also known as SS2?\\n \\n \\n'}, {'role': 'assistant', 'content': '\\n \\n with commentary: \\n \\n \\n # SS2 Storage to Storage Instruction Format\\n \\n There are two subtypes for Storage to Storage instructions.  The\\n SS2 format is a variation of the SS1 format that contains two\\n lengths.\\n \\n \\n The format is as follows:\\n \\n | OpCode | byte2 | byte3        | byte4 | byte5 | byte6 |\\n |--------+-------+--------------+-------+-------+-------|\\n | xx     | L1L2  | B1D1         |  D1D1 | B2D2  | D2D2  |\\n |        | Length| Dest         |       | Src   |       |\\n |        |       | Base         |       | Base  |       |\\n |        |       | Displacement | Disp. | Disp. | Disp. |\\n \\n * Byte 1 - the op code\\n * Byte 2 \\n     - the number of bytes associated with operand 1 (minus 1)\\n     - the number of bytes associated with operand 2 (minus 1)\\n     - Each length value is 4 bits wide\\n * Byte 3 and 4 - the base/displacement address associated with operand 1\\n * Byte 5 and 6 - the base/displacement address associated with operand 2\\n \\n'}]}\n",
      "{'messages': [{'role': 'system', 'content': 'you are a helpful assistant who understands IBM BAL (IBM Basic Assembler Language)'}, {'role': 'user', 'content': '\\n Provide an explanation of the A instruction in BAS.\\n'}, {'role': 'assistant', 'content': \"\\n        A   R9,FIELDA\\n \\n with commentary: \\n \\n A R1,D2(X2,B2)\\n \\n OPCODE  R1X2   B2D2  D2D2\\n \\n The Add instruction performs two's compliment binary\\n addition.  Operand 1 is a register containing a fullword\\n integer.  Operand 2 is a fullword in memory.  The fullword\\n in memory is added to the fullword in the register and the result\\n is stored in the register.  The fullword in memory is not changed.\\n The instruction ses the condition code as follows:\\n \\n condition code        meaning                   test with\\n ------------------------------------------------------------\\n 0                  Result is 0; no overflow     BE,JE,BZ,JZ\\n 1                  Result is <0; no overflow    BL,JL,BM,JM\\n 2                  Result is >0; no overflow    BH,JH,BP,JP\\n 3                  overflow\\n \\n As an example, consider the following code:\\n \\n        A   R9,AFIELD\\n \\n R9 Before               R9 After\\n 00000025 -------------> 00000028\\n \\n FIELDA DC   X'3'\\n \\n \\n\"}]}\n",
      "{'messages': [{'role': 'system', 'content': 'you are a helpful assistant who understands IBM BAL (IBM Basic Assembler Language)'}, {'role': 'user', 'content': '\\n Provide an explanation of the Add Register instruction in BAS.\\n'}, {'role': 'assistant', 'content': \"\\n        AR   R5,R9\\n \\n with commentary: \\n \\n AR   R1,R2\\n \\n OPCODE  R1R2\\n \\n The Add Register instruction performs two's compliment binary\\n addition.  Operand 1 and 2 are registers containing fullword\\n integers.  The fullwords are added and the sum is stored\\n in register 1.  Register 2 is unchanged.\\n \\n The instruction sets the condition code as follows:\\n \\n condition code        meaning                   test with\\n ------------------------------------------------------------\\n 0                  Result is 0; no overflow     BE,JE,BZ,JZ\\n 1                  Result is <0; no overflow    BL,JL,BM,JM\\n 2                  Result is >0; no overflow    BH,JH,BP,JP\\n 3                  overflow\\n \\n As an example, consider the following code:\\n \\n        AR   R5,R9\\n \\n \\n \\n R5 Before               R5 After\\n 00000025 -------------> 00000028\\n \\n R9 Before               R9 After\\n 00000003 -------------> 00000028\\n \\n \\n \\n\"}]}\n",
      "{'messages': [{'role': 'system', 'content': 'you are a helpful assistant who understands IBM BAL (IBM Basic Assembler Language)'}, {'role': 'user', 'content': '\\n Provide an explanation of the Divide instruction in BAS.\\n'}, {'role': 'assistant', 'content': \"\\n        D     R6,=F'10'\\n \\n with commentary: \\n \\n D   R1,D2(X2,B2)\\n \\n OPCODE  R1X2   B2D2  D2D2\\n \\n The Divide (D) instruction performs two's compliment binary\\n integer division.  \\n \\n An example of integer division is:  \\n \\n Y = A / B with remainder R\\n \\n A is referred to as the dividend\\n B is referred to as the divisor\\n Y is referred to as quotient\\n R is referred to as the remainder\\n \\n Operand 1 specifies a register pair.  Operand 1\\n specifies an even register.  The second register is implied as the\\n next register in the sequence.\\n \\n For example if Operand 1 is R2, the second register is R3.  This\\n even:odd register pair forms the dividend.\\n \\n Operand 2 specifes the name of a fullword in memory containing\\n the divisor.\\n \\n After the execution of the divide instruction, the resulting \\n quotient is in R1 and the remainder is in R2.   To clarify,\\n R1 is R8 and R2 is R9 in the example code below.\\n \\n \\n As an example, consider the following code:\\n \\n        L     R6,=F'100'  DIVIDEND INITIALLY GOES IN THE EVEN\\n *                        REGISTER\\n        SRDA  R6,32       ... AND IS SHIFTED TO THE ODD REGISTER\\n        D     R6,=F'10'   ... BEFORE DIVIDING\\n *                        R6 (REMAINDER) = X'00000000',\\n *                        R7 (QUOTIENT)  = X'0000000A'\\n \\n \\n \\n 100/10 -> 10 r=0\\n \\n \\n R6 Before               R6 After\\n Dividend Upper          Remainder\\n 00000000 -------------> 00000000\\n \\n R7 Before               R7 After\\n Dividend Lower          Quotient\\n 00000064 -------------> 0000000A\\n \\n IMM:F \\n 0000000A \\n \\n IMM:F \\n 00000064 \\n \\n \\n \\n\"}]}\n",
      "{'messages': [{'role': 'system', 'content': 'you are a helpful assistant who understands IBM BAL (IBM Basic Assembler Language)'}, {'role': 'user', 'content': '\\n Provide an explanation of the MVI instruction in BAS.\\n'}, {'role': 'assistant', 'content': \"\\n MVI D1(B1),I2\\n \\n with commentary: \\n \\n OPCODE  I2I2   B1D1  D1D1\\n \\n Move immediate (MVI) is used to move (copy) a one-byte immediate\\n constant to a field in storage .  Operand 1 denotes the filed in main \\n storage, while the second operand is coded as self-defining term that\\n gets assembled by the move.\\n \\n As an example, consider the following code,\\n \\n        MVI   FIELDA,X'C1'\\n        ...\\n FIELDA DC   X'123456'\\n \\n \\n\"}]}\n",
      "{'messages': [{'role': 'system', 'content': 'you are a helpful assistant who understands IBM BAL (IBM Basic Assembler Language)'}, {'role': 'user', 'content': '\\n Provide an explanation of the Move Immediate instruction in BAS.\\n'}, {'role': 'assistant', 'content': \"\\n        MVI   FIELDA,X'C1'\\n \\n with commentary: \\n \\n MVI D1(B1),I2\\n \\n OPCODE  I2I2   B1D1  D1D1\\n \\n Move immediate (MVI) is used to move (copy) a one-byte immediate\\n constant to a field in storage .  Operand 1 denotes the filed in main \\n storage, while the second operand is coded as self-defining term that\\n gets assembled by the move.\\n \\n As an example, consider the following code:\\n \\n        MVI   FIELDA,X'C1'\\n        ...\\n FIELDA DC   X'123456'\\n \\n \\n\"}]}\n",
      "{'messages': [{'role': 'system', 'content': 'you are a helpful assistant who understands IBM BAL (IBM Basic Assembler Language)'}, {'role': 'user', 'content': '\\n Can you explain the Register and Storage type instruction format also known as RS?\\n \\n \\n'}, {'role': 'assistant', 'content': '\\n \\n with commentary: \\n \\n # RS Register and Storage Format\\n The RS format is used for register and storage instructions.\\n \\n There are only a few instructions of this type.  The index\\n register is replaced by a register reference or a 4-bit mask.\\n One unusual feature of RS instructions is the use of three\\n operands.  The explicit coding for this instruction is:\\n R1,R3,D2(B2)\\n \\n \\n The format is as follows:\\n \\n | OpCode | byte2 | byte3        | byte4 |\\n |--------+-------+--------------+-------+\\n | xx     | R1X3  | B2D2         |  D2D2 |\\n |        | Length| Dest         |       |\\n |        | Index | Base         |       |\\n |        |       | Displacement | Disp. |\\n \\n * Byte 1 - the op code\\n * Byte 2 \\n     - R1 - the register which is operand 1\\n     - X3 - the index register associated with operand 2\\n * Byte 3 and 4 - the base/displacement address associated with operand 3\\n \\n The numbering is funny here.  In this explicit coding, the second\\n operand is X3 and the third opeand is D2(B2)\\n \\n \\n An example of this format is the STM Store Multiple instruction.\\n \\n ```\\n STM  R14,R12,12(R13)\\n ```\\n \\n The instruction would generate the following object code\\n \\n ```\\n 90ECD00C\\n ```\\n \\n * 90 corresponds to STM\\n * E corresponds to R14 or R1\\n * C corresponds to R12 or X3\\n * D correcponds to 13 or B2\\n * 00C corresponds to 12 or D2\\n \\n \\n'}]}\n",
      "{'messages': [{'role': 'system', 'content': 'you are a helpful assistant who understands IBM BAL (IBM Basic Assembler Language)'}, {'role': 'user', 'content': '\\n Can you explain the Storage Immediate type instruction format also \\n known as SI?\\n \\n \\n'}, {'role': 'assistant', 'content': \"\\n \\n with commentary: \\n \\n # SI Storage Immediate Format\\n The SI format is used for storage immediate instructions.\\n \\n In this format, the second operand, the immediate constant,\\n resides in the instructions second byte.  This constant\\n usually specified as a self-defining term.\\n \\n The format is as follows:\\n \\n | byte1   | byte2 | byte3        | byte4 |\\n |---------+-------+--------------+-------+\\n | Op Code | I2I2  | B1D1         |  D1D1 |\\n |         | Src   | Dest         |       |\\n |         | Index | Base         |       |\\n |         |       | Displacement | Disp. |\\n \\n * Byte 1 - the op code\\n * Byte 2 - the immediate constant denoted in operand 2\\n * Byte 3 and 4 - the base/displacement address associated with operand 1\\n \\n \\n An example of this format is the CLI Compare Logical \\n immediate instruction.\\n \\n ```\\n CLI  CUSTTYPE,C'A'\\n ```\\n \\n \\n\"}]}\n"
     ]
    }
   ],
   "source": [
    "OUT_FQPN = data_path /  pathlib.Path(OUT_FILE_NAME).as_posix()\n",
    "#print(OUT_FQPN)\n",
    "\n",
    "# remove any existing output\n",
    "try:\n",
    "    os.remove(OUT_FQPN)\n",
    "except OSError:\n",
    "    pass\n",
    "\n",
    "for a_file in files:\n",
    "#    print(\"a file name: \", a_file)\n",
    "    IN_FQPN = data_path /  pathlib.PurePath(a_file).as_posix()\n",
    "    convert_text_to_jsonl(IN_FQPN, OUT_FQPN)"
   ]
  },
  {
   "cell_type": "code",
   "execution_count": null,
   "metadata": {},
   "outputs": [],
   "source": []
  },
  {
   "cell_type": "code",
   "execution_count": null,
   "metadata": {},
   "outputs": [],
   "source": []
  }
 ],
 "metadata": {
  "kernelspec": {
   "display_name": "Python 3",
   "language": "python",
   "name": "python3"
  },
  "language_info": {
   "codemirror_mode": {
    "name": "ipython",
    "version": 3
   },
   "file_extension": ".py",
   "mimetype": "text/x-python",
   "name": "python",
   "nbconvert_exporter": "python",
   "pygments_lexer": "ipython3",
   "version": "3.10.8"
  }
 },
 "nbformat": 4,
 "nbformat_minor": 2
}
